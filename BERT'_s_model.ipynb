{
  "nbformat": 4,
  "nbformat_minor": 0,
  "metadata": {
    "colab": {
      "provenance": [],
      "gpuType": "T4",
      "authorship_tag": "ABX9TyOn2Lj96yfaRc+ojq5B4tte",
      "include_colab_link": true
    },
    "kernelspec": {
      "name": "python3",
      "display_name": "Python 3"
    },
    "language_info": {
      "name": "python"
    },
    "accelerator": "GPU"
  },
  "cells": [
    {
      "cell_type": "markdown",
      "metadata": {
        "id": "view-in-github",
        "colab_type": "text"
      },
      "source": [
        "<a href=\"https://colab.research.google.com/github/ThrallPraudmur/Transformers/blob/main/BERT'_s_model.ipynb\" target=\"_parent\"><img src=\"https://colab.research.google.com/assets/colab-badge.svg\" alt=\"Open In Colab\"/></a>"
      ]
    },
    {
      "cell_type": "code",
      "source": [
        "import torch\n",
        "from torch.utils.data import DataLoader, TensorDataset\n",
        "import pandas as pd\n",
        "import numpy as np\n",
        "from collections import Counter\n",
        "from transformers import BertTokenizer, BertForSequenceClassification\n",
        "from sklearn.model_selection import train_test_split\n",
        "from sklearn.preprocessing import LabelEncoder\n",
        "from sklearn.metrics import accuracy_score, classification_report\n",
        "from sklearn.utils import shuffle\n",
        "\n",
        "comment_data = pd.read_excel('values_df.xlsx')\n",
        "comment_data = shuffle(comment_data)\n",
        "\n",
        "# Подготовка данных\n",
        "encoder = LabelEncoder()\n",
        "comment_data['class'] = encoder.fit_transform(comment_data['sentiment'])\n",
        "\n",
        "X = comment_data['text']\n",
        "y = comment_data['class']\n",
        "X_train, X_test, y_train, y_test = train_test_split(X, y, test_size = 0.4, random_state = 42, stratify = comment_data['class'])\n",
        "X_val, X_test, y_val, y_test = train_test_split(X_test, y_test, test_size = 0.5, random_state = 42, stratify = y_test)\n",
        "\n",
        "# Сompute class frequencies\n",
        "class_counts = Counter(y_train)\n",
        "total_samples = len(y_train)\n",
        "\n",
        "class_weights = torch.tensor([total_samples / (class_counts[i] * len(class_counts)) for i in range(len(class_counts))], dtype = torch.float)"
      ],
      "metadata": {
        "id": "qUwU-oS9BNMG"
      },
      "execution_count": null,
      "outputs": []
    },
    {
      "cell_type": "code",
      "source": [
        "tokenizer('бк с гд. потребности в кредите.! лизинг нет потребности.')"
      ],
      "metadata": {
        "colab": {
          "base_uri": "https://localhost:8080/"
        },
        "id": "iM7aP6f04Bsm",
        "outputId": "50c6aea7-2d27-4441-ebaa-0d67c61b4dc6"
      },
      "execution_count": null,
      "outputs": [
        {
          "output_type": "execute_result",
          "data": {
            "text/plain": [
              "{'input_ids': [101, 843, 862, 869, 847, 850, 132, 37758, 845, 15123, 842, 132, 106, 61348, 8953, 37758, 132, 102], 'token_type_ids': [0, 0, 0, 0, 0, 0, 0, 0, 0, 0, 0, 0, 0, 0, 0, 0, 0, 0], 'attention_mask': [1, 1, 1, 1, 1, 1, 1, 1, 1, 1, 1, 1, 1, 1, 1, 1, 1, 1]}"
            ]
          },
          "metadata": {},
          "execution_count": 7
        }
      ]
    },
    {
      "cell_type": "code",
      "source": [
        "tokenizer = BertTokenizer.from_pretrained('DeepPavlov/rubert-base-cased')\n",
        "model = BertForSequenceClassification.from_pretrained('DeepPavlov/rubert-base-cased', num_labels = 4)\n",
        "\n",
        "# Токенизация и преобразование комментариев\n",
        "train_encodings = tokenizer(list(X_train), truncation = True, padding = True)\n",
        "test_encodings = tokenizer(list(X_test), truncation = True, padding = True)\n",
        "\n",
        "# Создание тензоров pytorch для входных данных\n",
        "train_dataset = TensorDataset(torch.tensor(train_encodings['input_ids']),\n",
        "                              torch.tensor(train_encodings['attention_mask']),\n",
        "                              torch.tensor(y_train.values),\n",
        "                              class_weights[y_train.values])\n",
        "\n",
        "test_dataset = TensorDataset(torch.tensor(test_encodings['input_ids']),\n",
        "                             torch.tensor(test_encodings['attention_mask']),\n",
        "                             torch.tensor(y_test.values))\n",
        "\n",
        "# Создание dataloader для обучающего и тестового набора данных\n",
        "train_loader = DataLoader(train_dataset, batch_size = 16, shuffle = True)\n",
        "test_loader = DataLoader(test_dataset, batch_size = 16, shuffle = False)\n",
        "\n",
        "# Установка GPU\n",
        "# device = torch.device('cuda')\n",
        "# model.to(device)\n",
        "\n",
        "# loss_fn = torch.nn.CrossEntropyLoss()\n",
        "loss_fn = torch.nn.CrossEntropyLoss(weight = class_weights)\n",
        "optimizer = torch.optim.Adam(model.parameters(), lr = 1e-5)\n",
        "\n",
        "# Обучение модели\n",
        "for epoch in range(5):\n",
        "  model.train()\n",
        "  for batch in train_loader:\n",
        "    # input_ids, attention_mask, labels = (item.to(device) for item in batch)\n",
        "    # input_ids, attention_mask, labels, weights = (item.to(device) for item in batch)\n",
        "    input_ids, attention_mask, labels, weights = (item for item in batch)\n",
        "    optimizer.zero_grad()\n",
        "    outputs = model(input_ids, attention_mask = attention_mask, labels = labels)\n",
        "    loss = outputs.loss\n",
        "    loss.backward()\n",
        "    optimizer.step()\n",
        "\n",
        "model.eval()\n",
        "predictions = []\n",
        "with torch.no_grad():\n",
        "  for batch in test_loader:\n",
        "    # input_ids, attention_mask, _ = (item.to(device) for item in batch)\n",
        "    input_ids, attention_mask, _ = (item for item in batch)\n",
        "    outputs = model(input_ids, attention_mask = attention_mask)\n",
        "    _, predicted_labels = torch.max(outputs.logits, dim = 1)\n",
        "    predictions.extend(predicted_labels.cpu().numpy())\n",
        "\n",
        "accuracy = accuracy_score(y_test, predictions)\n",
        "accuracy"
      ],
      "metadata": {
        "id": "rRATwwPa6fWp"
      },
      "execution_count": null,
      "outputs": []
    },
    {
      "cell_type": "code",
      "source": [
        "y_test = encoder.inverse_transform(y_test)\n",
        "predictions = encoder.inverse_transform(predictions)\n",
        "\n",
        "results_df = pd.DataFrame({'Comment': X_test, 'True_Label': y_test, 'Predicted_Label': predictions})\n",
        "print(classification_report(results_df['True_Label'], results_df['Predicted_Label']))"
      ],
      "metadata": {
        "colab": {
          "base_uri": "https://localhost:8080/"
        },
        "id": "Qfsx6SXhN_5K",
        "outputId": "ddaca61a-5443-43c4-c7c6-9ba12f1cbc3c"
      },
      "execution_count": null,
      "outputs": [
        {
          "output_type": "stream",
          "name": "stdout",
          "text": [
            "              precision    recall  f1-score   support\n",
            "\n",
            "    negative       0.88      0.88      0.88        32\n",
            "     neutral       0.90      0.50      0.64        18\n",
            "    opponent       0.89      0.53      0.67        15\n",
            "    positive       0.71      0.95      0.81        41\n",
            "\n",
            "    accuracy                           0.79       106\n",
            "   macro avg       0.84      0.71      0.75       106\n",
            "weighted avg       0.82      0.79      0.78       106\n",
            "\n"
          ]
        }
      ]
    },
    {
      "cell_type": "code",
      "source": [
        "model.save_pretrained('bert_model')\n",
        "tokenizer.save_pretrained('bert_tokenizer')"
      ],
      "metadata": {
        "colab": {
          "base_uri": "https://localhost:8080/"
        },
        "id": "MA_MD76oIf2h",
        "outputId": "969a39c0-a868-496f-b142-91a31562dd47"
      },
      "execution_count": null,
      "outputs": [
        {
          "output_type": "execute_result",
          "data": {
            "text/plain": [
              "('bert_tokenizer/tokenizer_config.json',\n",
              " 'bert_tokenizer/special_tokens_map.json',\n",
              " 'bert_tokenizer/vocab.txt',\n",
              " 'bert_tokenizer/added_tokens.json')"
            ]
          },
          "metadata": {},
          "execution_count": 12
        }
      ]
    },
    {
      "cell_type": "code",
      "source": [
        "'польз' in tokenizer.vocab"
      ],
      "metadata": {
        "colab": {
          "base_uri": "https://localhost:8080/"
        },
        "id": "QxoxRc3BJT4W",
        "outputId": "a2baca76-f942-411c-e873-503235babb69"
      },
      "execution_count": null,
      "outputs": [
        {
          "output_type": "execute_result",
          "data": {
            "text/plain": [
              "True"
            ]
          },
          "metadata": {},
          "execution_count": 33
        }
      ]
    },
    {
      "cell_type": "code",
      "source": [
        "pd.options.display.max_colwidth = None\n",
        "results_df"
      ],
      "metadata": {
        "id": "XSacrYkrPIZW"
      },
      "execution_count": null,
      "outputs": []
    }
  ]
}