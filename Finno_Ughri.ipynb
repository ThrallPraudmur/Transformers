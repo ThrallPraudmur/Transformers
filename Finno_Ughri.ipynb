{
  "nbformat": 4,
  "nbformat_minor": 0,
  "metadata": {
    "colab": {
      "provenance": [],
      "authorship_tag": "ABX9TyMkk+uQLOhcUa2CWkdCAlli",
      "include_colab_link": true
    },
    "kernelspec": {
      "name": "python3",
      "display_name": "Python 3"
    },
    "language_info": {
      "name": "python"
    }
  },
  "cells": [
    {
      "cell_type": "markdown",
      "metadata": {
        "id": "view-in-github",
        "colab_type": "text"
      },
      "source": [
        "<a href=\"https://colab.research.google.com/github/ThrallPraudmur/Transformers/blob/main/Finno_Ughri.ipynb\" target=\"_parent\"><img src=\"https://colab.research.google.com/assets/colab-badge.svg\" alt=\"Open In Colab\"/></a>"
      ]
    },
    {
      "cell_type": "markdown",
      "source": [
        "##[Ihmisten korvaaminen koneilla on alkanut](https://johtajuushakkeri.fi/ihmisten-korvaaminen-koneilla-on-alkanut/)"
      ],
      "metadata": {
        "id": "qCga39mvo-6X"
      }
    },
    {
      "cell_type": "markdown",
      "source": [
        "* `korvaaminen` = замена\n",
        "* `korvata` = заменять\n",
        "* `kone` -> `koneilla`, машина\n",
        "\n",
        "Sain ensimmäisen demoni valmiiksi, jossa automatisoin asiakaspalvelun toiminnan tekoälyn avulla.\n",
        "* `automatisoida` = автоматизировать\n",
        "* `valmis` -> `sain valmiiksi`, закончил\n",
        "* `toiminto` -> `toiminnan gen.`, функция, процедура\n",
        "* `asiakaspalvelu` = обслуживание клиентов\n",
        "\n",
        "Paljon puhuttu tilanne, jossa tekoäly korvaa ihmisten ammatteja, on nyt minun ulottuvillani.\n",
        "* `tilanne` -> `paljon puhuttu tilanne`, широко обсуждаемая ситуация\n",
        "* `ammati` -> `ammateja mon.p.`, профессии\n",
        "* `ulottuvillani` = у меня под ругой\n",
        "\n",
        "Tarkoitukseni ei tosiaankaan ole tehdä kenestäkään toimetonta, vaan kehittää maailmaa eteenpäin.\n",
        "* `tarkoitus` -> `tarkoitukseni`, моя цель\n",
        "* `ei tosiaankaan` = вовсе нет\n",
        "* `kenestäkään` = кого либо\n",
        "* `toimi` -> `tehdä toimetonta` = сделать безработным\n",
        "* `kehittää eteenpäin` = развивать дальше\n",
        "\n",
        "Suomessa on lama käynnissä ja kulukuri on iskenyt yrityksiin.\n",
        "* `lama` = кризис, стагнация\n",
        "* `iskeä` = ударять\n",
        "* `kulukuri` = дисциплина расходов\n",
        "\n",
        "Säästöjä ja tehokkuuden parannusta voi kuitenkin tehdä vaarantamatta hyvinvointia.\n",
        "* `säästö` = экономия\n",
        "* `tehokkuuden parannus` = повышение эффективности\n",
        "* `vaarantaa` = подвергнуть опасности\n",
        "* `hyvinvointi` -> `vaarantamatta hyvinvointia`, без ущерба для благополучия\n",
        "\n",
        "Pitää uskaltaa muuttaa nykyistä toimintaa.\n",
        "* `uskaltaa` = осмеливаться\n",
        "* `pitää uskaltaa` = ты должен осмелиться\n",
        "* `nykyinen toiminta` -> `nykyistä toimintaa`, текущий порядог вещей\n",
        "\n",
        "Microsoftin Power Platformilla kuka tahansa Microsoft 365 sähköpostia käyttävä henkilö voi rakentaa itselleen järjestelmän, jossa tekoäly (AI Builder -tuote) kategorisoi ja ottaa ulos aiheita sähköpostiviesteistä.\n",
        "* `kuka tahansa` = кто угодно\n",
        "* `käyttävä henkilö` = пользователь\n",
        "* `järjestelmä` -> `rakentaa järjestelmän`, построить систему\n",
        "\n",
        "Tämän jälkeen voit yhdistää työnkulkusi vaikka ulkoiseen järjestelmään.\n",
        "* `yhdistää` = присоединить\n",
        "* `ulkoinen järjestelmä` -> `ulkoiseen järjestelmään`, к внешней системе\n",
        "\n",
        "Kerron miten tämä tehdään teknisessä blogikirjoituksessani. Haluan tuoda esille, ettei tarvitse olla teknologianero, ottaakseen käyttöön automatisoidut järjestelmät ja tekoälyn.\n",
        "* `haluan tuoda esille` = хотел бы отметить\n",
        "* `nero` -> `teknologianero`, гений\n",
        "\n",
        "Lähes jokainen on käynyt kokeilemassa ChatGPT:tä ja toiset ovat löytäneet Bingin Edge-selaimesta tai kännykkäapista.\n",
        "* `lähes jokainen` = почти все\n",
        "* `käyda kokeilemassa` = эксперемнтировать\n",
        "* `toiset` = другие\n",
        "* `kännykkäapi` = мобильное приложение\n",
        "\n",
        "Erityisten alojen osaajat hyödyntävät tekoälyä, mutta Power Platformin avulla jokainen kansalaiskehittäjä voi nopeuttaa omaa työtään.\n",
        "* `erityinen` = специфичный\n",
        "* `hyödyntää` = использовать\n",
        "* `nopeuttaa` = ускорить\n",
        "\n",
        "Viimeisen viiden vuoden aikana on ollut pinnalla ammatteja, joihin kannattaa kouluttautua, jottei tekoäly korvaisi ihmisen työtä.\n",
        "* `aikana` = за последние\n",
        "* `kannattaa kouluttautua` = следует получить образование\n",
        "* `jottei` = чтобы не\n",
        "* `korvata` = заменить\n",
        "\n",
        "Se on totta, näitä on useita, mutta jokainen meistä voi myös kehittää itseään ja ottaa käyttöön omassa työsässään tehostamisen keinoja.\n",
        "* `tehostaminen` -> `tehostamisen keinoja`, средства совершенстования\n",
        "\n",
        "Asiakaspalvelija voi siirtyä organisaatiossa osastolle, jonne uusi automaatio ohjaa tehtävät. Koneilla ei korvattu aikoinaan ihmisiä, vaan raskaat ja toistettavat työt. Tekoälyllä ei korvata ihmisiä, vaan toistettavat ja yksinkertaiset tehtävät.\n",
        "* `siirtyä` = перемещаться\n",
        "* `raskas` = обременительный\n",
        "* `toistaa` -> `toistettava`, повторяющийся\n",
        "* `yksinkertainen` = простой, незамысловатый\n",
        "\n",
        "Jokaiselle meille jää vastuu omasta ammatillisesta kehityksestä. Maailma ei ole enää samanlainen, jossa voidaan olla samassa työpaikassa hamaan tappiin asti. Tämä on huomattu jo viimeisen kymmenen vuoden aikana, eikä syynä tähän ole tekoäly vaan ihmiskunnan ja teknologian jatkuva kehitys. Kehityksen myötä elämme informaatiotulvassa, aiheutamme itsellemme keskittymishäiriöitä ja uuvumme nopeammin kuin ennen. Opettelemalla uusia teknologioita ja ottamalla ne käyttöön, voimme palauttaa itsellemme työrauhan ja paremman työympäristön.\n",
        "* `jokaiselle meille` = на каждом из нас\n",
        "* `vastuu` = ответственность\n",
        "* `ammatillinen kehitys` -> `ammatillisesta kehityksestä`, за профессиональное развитие\n",
        "* `hamaan  tappiin asti` = вплоть до булавки\n",
        "\n",
        "Teollistumisen aikakaudella huomattiin nopeasti, miten työkoneet itseasiassa auttoivat ihmisiä ja vähensivät fyysistä rasitusta – jotta voisimme sitten mennä työpäivän jälkeen kuntosaleille pitämään huolta fyysisestä kunnostamme =) Nyt toivon, että tekoälyn aikakaudella voimme alkaa rakentamaan itsellemme työkaluja, joiden avulla voimme taas keskittyä paremmin työtehtäviimme ja antaa teknologian hoitaa pahimman informaationtulvan.\n",
        "* `aikakausi` = эпоха, эра\n",
        "* `työkalu` = инструмент\n",
        "* `taas keskittyä` = снова сосредоточиться\n",
        "* `antaa hoitaa` = позволит справиться\n",
        "\n",
        "Miten sinä voisit parantaa omia työolosuhteitasi tekoälyn avulla?"
      ],
      "metadata": {
        "id": "4KjcrWo8o-vA"
      }
    },
    {
      "cell_type": "markdown",
      "source": [],
      "metadata": {
        "id": "od3B4fzbejgk"
      }
    },
    {
      "cell_type": "markdown",
      "source": [],
      "metadata": {
        "id": "MlJqlYYMej4l"
      }
    }
  ]
}